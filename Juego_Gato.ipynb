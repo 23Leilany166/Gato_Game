{
 "cells": [
  {
   "cell_type": "code",
   "execution_count": 7,
   "metadata": {},
   "outputs": [
    {
     "name": "stdout",
     "output_type": "stream",
     "text": [
      " | | \n",
      "-----\n",
      " | | \n",
      "-----\n",
      " | | \n",
      "-----\n",
      "Turno del jugador X. Elige fila y columna (0, 1 o 2):\n",
      " | | \n",
      "-----\n",
      " | | \n",
      "-----\n",
      " |X| \n",
      "-----\n",
      "Turno del jugador O. Elige fila y columna (0, 1 o 2):\n",
      "Movimiento inválido. Inténtalo de nuevo.\n",
      " | | \n",
      "-----\n",
      " | | \n",
      "-----\n",
      " |X| \n",
      "-----\n",
      "Turno del jugador O. Elige fila y columna (0, 1 o 2):\n"
     ]
    }
   ],
   "source": [
    "def mostrar_tablero(tablero):\n",
    "    for fila in tablero:\n",
    "        print(\"|\".join(fila))\n",
    "        print(\"-\" * 5)\n",
    "\n",
    "def comprobar_ganador(tablero):\n",
    "    # Comprobar filas y columnas\n",
    "    for i in range(3):\n",
    "        if tablero[i][0] == tablero[i][1] == tablero[i][2] != \" \":\n",
    "            return True\n",
    "        if tablero[0][i] == tablero[1][i] == tablero[2][i] != \" \":\n",
    "            return True\n",
    "    \n",
    "    # Comprobar diagonales\n",
    "    if tablero[0][0] == tablero[1][1] == tablero[2][2] != \" \":\n",
    "        return True\n",
    "    if tablero[0][2] == tablero[1][1] == tablero[2][0] != \" \":\n",
    "        return True\n",
    "    \n",
    "    return False\n",
    "\n",
    "def realizar_movimiento(tablero, fila, col, jugador):\n",
    "    if tablero[fila][col] == \" \":\n",
    "        tablero[fila][col] = jugador\n",
    "        return True\n",
    "    return False\n",
    "\n",
    "def juego_gato():\n",
    "    tablero = [[\" \" for _ in range(3)] for _ in range(3)]\n",
    "    jugadores = [\"X\", \"O\"]\n",
    "    turno = 0\n",
    "    \n",
    "    for _ in range(9):\n",
    "        mostrar_tablero(tablero)\n",
    "        jugador_actual = jugadores[turno % 2]\n",
    "        print(f\"Turno del jugador {jugador_actual}. Elige fila y columna (0, 1 o 2):\")\n",
    "        fila = int(input(\"Fila: \"))\n",
    "        col = int(input(\"Columna: \"))\n",
    "        \n",
    "        if realizar_movimiento(tablero, fila, col, jugador_actual):\n",
    "            if comprobar_ganador(tablero):\n",
    "                mostrar_tablero(tablero)\n",
    "                print(f\"¡El jugador {jugador_actual} gana!\")\n",
    "                return\n",
    "            turno += 1\n",
    "        else:\n",
    "            print(\"Movimiento inválido. Inténtalo de nuevo.\")\n",
    "    \n",
    "    mostrar_tablero(tablero)\n",
    "    print(\"¡Es un empate!\")\n",
    "\n",
    "if __name__ == \"__main__\":\n",
    "    juego_gato()"
   ]
  }
 ],
 "metadata": {
  "kernelspec": {
   "display_name": "base",
   "language": "python",
   "name": "python3"
  },
  "language_info": {
   "codemirror_mode": {
    "name": "ipython",
    "version": 3
   },
   "file_extension": ".py",
   "mimetype": "text/x-python",
   "name": "python",
   "nbconvert_exporter": "python",
   "pygments_lexer": "ipython3",
   "version": "3.11.5"
  }
 },
 "nbformat": 4,
 "nbformat_minor": 2
}
